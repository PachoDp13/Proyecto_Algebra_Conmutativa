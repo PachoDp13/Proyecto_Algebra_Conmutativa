{
 "cells": [
  {
   "cell_type": "code",
   "execution_count": 5,
   "metadata": {},
   "outputs": [],
   "source": [
    "using Oscar"
   ]
  },
  {
   "cell_type": "code",
   "execution_count": 6,
   "metadata": {},
   "outputs": [
    {
     "data": {
      "text/plain": [
       "0"
      ]
     },
     "metadata": {},
     "output_type": "display_data"
    }
   ],
   "source": [
    "#Crear el grfo g\n",
    "g = Graph{Undirected}(5)\n",
    "add_edge!(g, 1, 2)\n",
    "add_edge!(g, 1, 3)\n",
    "add_edge!(g, 2, 4)\n",
    "add_edge!(g, 2, 5)"
   ]
  },
  {
   "cell_type": "code",
   "execution_count": 7,
   "metadata": {},
   "outputs": [
    {
     "data": {
      "text/plain": [
       "polisGrafo (generic function with 1 method)"
      ]
     },
     "metadata": {},
     "output_type": "display_data"
    }
   ],
   "source": [
    "GR, x = PolynomialRing(QQ, [\"x$i\" for i in 1:nv(g)]) # Definimos el anillo de polinomios con n = #vercies del grafo variables\n",
    "function polisGrafo(g,k,GR)\n",
    "    # Devuelve dado un grafo y un entero k, un sistema de polinomios que ayuda a determinar que el grafo es k-colorable Y el anillo de polinomios\n",
    "    ps = [GR[j]^k-1 for j in 1:nv(g)] # los polinomios x^k_i- 1 = 0, ∀i ∈ V(g)\n",
    "    ps2 = [GR[src(r)]^(k-1-l) * GR[dst(r)]^(l) for r in collect(edges(g)), l in 0:k-1] # los polinomios sum_l=0^{k-1} x_i^{k-1-l} x_j^l=0 ∀{i, j} ∈ E(G)\n",
    "    p2 = sum(ps2,dims=2)\n",
    "    polis = vec(vcat(ps,p2)) # crea una lista con los polinomios\n",
    "    return polis # retorna la lista de polinomios \n",
    "end"
   ]
  },
  {
   "cell_type": "code",
   "execution_count": 8,
   "metadata": {},
   "outputs": [
    {
     "data": {
      "text/plain": [
       "9-element Vector{fmpq_mpoly}:\n",
       " x1^3 - 1\n",
       " x2^3 - 1\n",
       " x3^3 - 1\n",
       " x4^3 - 1\n",
       " x5^3 - 1\n",
       " x1^2 + x1*x2 + x2^2\n",
       " x1^2 + x1*x3 + x3^2\n",
       " x2^2 + x2*x4 + x4^2\n",
       " x2^2 + x2*x5 + x5^2"
      ]
     },
     "metadata": {},
     "output_type": "display_data"
    }
   ],
   "source": [
    "polisGrafo(g,3,GR)"
   ]
  }
 ],
 "metadata": {
  "kernelspec": {
   "display_name": "Julia 1.8.5",
   "language": "julia",
   "name": "julia-1.8"
  },
  "language_info": {
   "file_extension": ".jl",
   "mimetype": "application/julia",
   "name": "julia",
   "version": "1.8.5"
  },
  "orig_nbformat": 4
 },
 "nbformat": 4,
 "nbformat_minor": 2
}
