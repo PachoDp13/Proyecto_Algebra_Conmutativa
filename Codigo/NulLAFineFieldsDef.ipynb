{
 "cells": [
  {
   "cell_type": "code",
   "execution_count": 1,
   "metadata": {},
   "outputs": [],
   "source": [
    "using Oscar\n"
   ]
  },
  {
   "cell_type": "code",
   "execution_count": 2,
   "metadata": {},
   "outputs": [
    {
     "data": {
      "text/plain": [
       "polisGrafo (generic function with 1 method)"
      ]
     },
     "metadata": {},
     "output_type": "display_data"
    }
   ],
   "source": [
    "function text_reader(name)\n",
    "    f = open(name)\n",
    "    lines = readlines(f)\n",
    "    E = []\n",
    "    v= 0\n",
    "    for l in lines\n",
    "        x = l[1]\n",
    "        if x == 'p'\n",
    "            t = split(l)\n",
    "            v = parse(Int64, t[3])\n",
    "        elseif x == 'e'\n",
    "            t = split(l)\n",
    "            push!(E, [parse(Int64,t[2]), parse(Int64,t[3])]) \n",
    "        end\n",
    "    end\n",
    "return v,E\n",
    "end\n",
    "\n",
    "function polisGrafo(g,k,R)\n",
    "    # Devuelve dado un grafo y un entero k, un sistema de polinomios que ayuda a determinar que el grafo es k-colorable Y el anillo de polinomios\n",
    "    ps = [R[j]^k-1 for j in 1:nv(g)] # los polinomios x^k_i- 1 = 0, ∀i ∈ V(g)\n",
    "    ps2 = [R[src(r)]^(k-1-l) * R[dst(r)]^(l) for r in collect(edges(g)), l in 0:k-1] # los polinomios sum_l=0^{k-1} x_i^{k-1-l} x_j^l=0 ∀{i, j} ∈ E(G)\n",
    "    p2 = sum(ps2,dims=2)\n",
    "    polis = vec(vcat(ps,p2)) # crea una lista con los polinomios\n",
    "    return polis # retorna la lista de polinomios \n",
    "end"
   ]
  },
  {
   "cell_type": "code",
   "execution_count": 3,
   "metadata": {},
   "outputs": [],
   "source": [
    "nver, E = text_reader(\"Grafos/johnson8-2-4.clq.txt\")\n",
    "g = Graph{Undirected}(nver)\n",
    "for v in E\n",
    "    add_edge!(g, v[1], v[2])\n",
    "end"
   ]
  },
  {
   "cell_type": "code",
   "execution_count": 4,
   "metadata": {},
   "outputs": [],
   "source": [
    "nve, E = 4, [[1, 2], [1, 3], [1, 4], [2, 3], [2, 4], [3, 4]]\n",
    "g = Graph{Undirected}(nve)\n",
    "for v in E\n",
    "    add_edge!(g, v[1], v[2])\n",
    "end\n"
   ]
  },
  {
   "cell_type": "code",
   "execution_count": 5,
   "metadata": {},
   "outputs": [
    {
     "data": {
      "text/plain": [
       "aEntero (generic function with 1 method)"
      ]
     },
     "metadata": {},
     "output_type": "display_data"
    }
   ],
   "source": [
    "#  Calcula las particiones de d en sumas de n numeros, pueden ser 0\n",
    "function partition(n::Int, d::Int)\n",
    "    if n == 1\n",
    "        return [[d]]\n",
    "    end\n",
    "    partitions = []\n",
    "    for i in 0:d\n",
    "        for p in partition(n-1, d-i)\n",
    "            push!(partitions, [i; p])\n",
    "        end\n",
    "    end\n",
    "    return partitions\n",
    "end\n",
    "# Calcula los polinomios beta_i sin coeficientes\n",
    "function polysBi(n::Int, d::Int,genes)\n",
    "    v = []\n",
    "    \n",
    "    for j in 0:d\n",
    "        v = vcat(v, [reduce(*,[genes[i]^par[i] for i in 1:length(par)]) for par in partition(n,j)])\n",
    "    end\n",
    "    return v\n",
    "end\n",
    "# Retorna los polinomios beta_i * f_i sin los coeficientes\n",
    "function creaCertv(d::Int,listap)\n",
    "    v=[]\n",
    "    n=length(gens(parent(listap[1])))\n",
    "    for f in listap\n",
    "        dd = total_degree(f)\n",
    "        v = vcat(v,[ f * bi for bi in polysBi(n, d - dd,gens(parent(listap[1])))])\n",
    "    end\n",
    "    return v\n",
    "end\n",
    "\n",
    "# Calcula el numero de coefficientes\n",
    "ncoefi(n::Int,e::Int,d::Int,k::Int) = sum(fill(binomial(n+d-k,d-k), n)) + sum(fill(binomial(n + d -k +1,d-k+1), e))::Int\n",
    "\n",
    "# Pasar a entero\n",
    "aEntero(a) = (a == GF(2)(1)) ? 1 : (a == GF(2)(0)) ? 0 : nothing"
   ]
  },
  {
   "cell_type": "code",
   "execution_count": 6,
   "metadata": {},
   "outputs": [
    {
     "data": {
      "text/plain": [
       "nulla (generic function with 1 method)"
      ]
     },
     "metadata": {},
     "output_type": "display_data"
    }
   ],
   "source": [
    "function nulla(g::Graph,cota::Int,k::Int)::Vector{Float64}\n",
    "    n = nv(g)\n",
    "    e = ne(g)\n",
    "    d = 3\n",
    "    while d <= cota\n",
    "        nUnkows = ncoefi(n,e,d,k)\n",
    "        GF2 = GF(2)\n",
    "        T, y =  PolynomialRing(GF2,[\"y$i\" for i in 1:nUnkows])\n",
    "        R2, z = PolynomialRing(T,[\"z$i\" for i in 1:n])\n",
    "\n",
    "        PG = polisGrafo(g, k, R2)\n",
    "\n",
    "        CERTsinC2 = creaCertv(d,PG)\n",
    "        CERTv = [ y[i]*CERTsinC2[i] for i in  1:length(CERTsinC2)]\n",
    "\n",
    "        CERT = reduce(vcat,[collect(terms(f)) for f in CERTv])\n",
    "\n",
    "        CERT1 = sum(CERT)\n",
    "        CERTt = collect(terms(CERT1))\n",
    "        println(CERTt)\n",
    "        # Creacion del sistema lineal \n",
    "        A = []\n",
    "        for cee in CERTt\n",
    "            achiquita = vec([aEntero(coeff(cc, yi)) for yi in gens(T), cc in collect(coefficients(cee))])\n",
    "            if isempty(A)\n",
    "                A = achiquita\n",
    "            else\n",
    "                A=hcat(A,achiquita)\n",
    "            end\n",
    "        end\n",
    "        A = transpose( A)\n",
    "        println(A)\n",
    "        #b = fill(GF(2)(0),length(CERTt))\n",
    "        #b[end]+=GF2(1)\n",
    "        b = zeros(Int,length(CERTt))\n",
    "        println(length(CERTt))\n",
    "        b[end]+=1\n",
    "        sol = A\\b\n",
    "        if any(sol .!= 0) # si no es todo 0, el sistema es consistente\n",
    "            println(\"The system of equations F is infeasible\")\n",
    "            return sol\n",
    "        end\n",
    "        println(\"Una iteracion\")\n",
    "        d += 1\n",
    "    end\n",
    "    println(\"The system of equations F is feasible.\")\n",
    "    return true\n",
    "end"
   ]
  },
  {
   "cell_type": "code",
   "execution_count": 8,
   "metadata": {},
   "outputs": [
    {
     "name": "stdout",
     "output_type": "stream",
     "text": [
      "AbstractAlgebra.Generic.MPoly{fpMPolyRingElem}[(y1 + y9 + y14 + y24)*z1^3, (y8 + y9 + y13 + y23)*z1^2*z2, (y8 + y9 + y19 + y29)*z1*z2^2, (y2 + y8 + y18 + y28)*z2^3, (y7 + y12 + y14 + y22)*z1^2*z3, (y7 + y13 + y19)*z1*z2*z3, (y7 + y17 + y18 + y27)*z2^2*z3, (y12 + y14 + y19 + y34)*z1*z3^2, (y13 + y17 + y18 + y33)*z2*z3^2, (y3 + y12 + y17 + y32)*z3^3, (y6 + y11 + y21 + y24)*z1^2*z4, (y6 + y23 + y29)*z1*z2*z4, (y6 + y16 + y26 + y28)*z2^2*z4, (y11 + y22 + y34)*z1*z3*z4, (y16 + y27 + y33)*z2*z3*z4, (y11 + y16 + y31 + y32)*z3^2*z4, (y21 + y24 + y29 + y34)*z1*z4^2, (y23 + y26 + y28 + y33)*z2*z4^2, (y22 + y27 + y31 + y32)*z3*z4^2, (y4 + y21 + y26 + y31)*z4^3, (y5 + y10 + y20)*z1^2, y5*z1*z2, (y5 + y15 + y25)*z2^2, y10*z1*z3, y15*z2*z3, (y10 + y15 + y30)*z3^2, y20*z1*z4, y25*z2*z4, y30*z3*z4, (y20 + y25 + y30)*z4^2, y1 + y2 + y3 + y4]\n",
      "[1 0 0 0 0 0 0 0 1 0 0 0 0 1 0 0 0 0 0 0 0 0 0 1 0 0 0 0 0 0 0 0 0 0; 0 0 0 0 0 0 0 1 1 0 0 0 1 0 0 0 0 0 0 0 0 0 1 0 0 0 0 0 0 0 0 0 0 0"
     ]
    },
    {
     "name": "stdout",
     "output_type": "stream",
     "text": [
      "; 0 0 0 0 0 0 0 1 1 0 0 0 0 0 0 0 0 0 1 0 0 0 0 0 0 0 0 0 1 0 0 0 0 0; 0 1 0 0 0 0 0 1 0 0 0 0 0 0 0 0 0 1 0 0 0 0 0 0 0 0 0 1 0 0 0 0 0 0; 0 0 0 0 0 0 1 0 0 0 0 1 0 1 0 0 0 0 0 0 0 1 0 0 0 0 0 0 0 0 0 0 0 0; 0 0 0 0 0 0 1 0 0 0 0 0 1 0 0 0 0 0 1 0 0 0 0 0 0 0 0 0 0 0 0 0 0 0; 0 0 0 0 0 0 1 0 0 0 0 0 0 0 0 0 1 1 0 0 0 0 0 0 0 0 1 0 0 0 0 0 0 0; 0 0 0 0 0 0 0 0 0 0 0 1 0 1 0 0 0 0 1 0 0 0 0 0 0 0 0 0 0 0 0 0 0 1; 0 0 0 0 0 0 0 0 0 0 0 0 1 0 0 0 1 1 0 0 0 0 0 0 0 0 0 0 0 0 0 0 1 0; 0 0 1 0 0 0 0 0 0 0 0 1 0 0 0 0 1 0 0 0 0 0 0 0 0 0 0 0 0 0 0 1 0 0; 0 0 0 0 0 1 0 0 0 0 1 0 0 0 0 0 0 0 0 0 1 0 0 1 0 0 0 0 0 0 0 0 0 0; 0 0 0 0 0 1 0 0 0 0 0 0 0 0 0 0 0 0 0 0 0 0 1 0 0 0 0 0 1 0 0 0 0 0; 0 0 0 0 0 1 0 0 0 0 0 0 0 0 0 1 0 0 0 0 0 0 0 0 0 1 0 1 0 0 0 0 0 0; 0 0 0 0 0 0 0 0 0 0 1 0 0 0 0 0 0 0 0 0 0 1 0 0 0 0 0 0 0 0 0 0 0 1; 0 0 0 0 0 0 0 0 0 0 0 0 0 0 0 1 0 0 0 0 0 0 0 0 0 0 1 0 0 0 0 0 1 0; 0 0 0 0 0 0 0 0 0 0 1 0 0 0 0 1 0 0 0 0 0 0 0 0 0 0 0 0 0 0 1 1 0 0; 0 0 0 0 0 0 0 0 0 0 0 0 0 0 0 0 0 0 0 0 1 0 0 1 0 0 0 0 1 0 0 0 0 1; 0 0 0 0 0 0 0 0 0 0 0 0 0 0 0 0 0 0 0 0 0 0 1 0 0 1 0 1 0 0 0 0 1 0; 0 0 0 0 0 0 0 0 0 0 0 0 0 0 0 0 0 0 0 0 0 1 0 0 0 0 1 0 0 0 1 1 0 0; 0 0 0 1 0 0 0 0 0 0 0 0 0 0 0 0 0 0 0 0 1 0 0 0 0 1 0 0 0 0 1 0 0 0; 0 0 0 0 1 0 0 0 0 1 0 0 0 0 0 0 0 0 0 1 0 0 0 0 0 0 0 0 0 0 0 0 0 0; 0 0 0 0 1 0 0 0 0 0 0 0 0 0 0 0 0 0 0 0 0 0 0 0 0 0 0 0 0 0 0 0 0 0; 0 0 0 0 1 0 0 0 0 0 0 0 0 0 1 0 0 0 0 0 0 0 0 0 1 0 0 0 0 0 0 0 0 0; 0 0 0 0 0 0 0 0 0 1 0 0 0 0 0 0 0 0 0 0 0 0 0 0 0 0 0 0 0 0 0 0 0 0; 0 0 0 0 0 0 0 0 0 0 0 0 0 0 1 0 0 0 0 0 0 0 0 0 0 0 0 0 0 0 0 0 0 0; 0 0 0 0 0 0 0 0 0 1 0 0 0 0 1 0 0 0 0 0 0 0 0 0 0 0 0 0 0 1 0 0 0 0; 0 0 0 0 0 0 0 0 0 0 0 0 0 0 0 0 0 0 0 1 0 0 0 0 0 0 0 0 0 0 0 0 0 0; 0 0 0 0 0 0 0 0 0 0 0 0 0 0 0 0 0 0 0 0 0 0 0 0 1 0 0 0 0 0 0 0 0 0; 0 0 0 0 0 0 0 0 0 0 0 0 0 0 0 0 0 0 0 0 0 0 0 0 0 0 0 0 0 1 0 0 0 0; 0 0 0 0 0 0 0 0 0 0 0 0 0 0 0 0 0 0 0 1 0 0 0 0 1 0 0 0 0 1 0 0 0 0; 1 1 1 1 0 0 0 0 0 0 0 0 0 0 0 0 0 0 0 0 0 0 0 0 0 0 0 0 0 0 0 0 0 0]\n",
      "31\n",
      "The system of equations F is infeasible\n"
     ]
    },
    {
     "data": {
      "text/plain": [
       "34-element Vector{Float64}:\n",
       "  0.22916666666666657\n",
       "  0.2291666666666664\n",
       "  0.2291666666666666\n",
       "  0.22916666666666657\n",
       "  1.393380451513459e-17\n",
       "  0.027777777777777728\n",
       "  0.027777777777777832\n",
       " -0.04861111111111104\n",
       " -0.04861111111111108\n",
       " -4.500139929349619e-18\n",
       "  ⋮\n",
       " -0.04861111111111112\n",
       "  0.027777777777777707\n",
       " -0.048611111111111105\n",
       "  0.027777777777777873\n",
       "  1.3933804515134587e-17\n",
       " -0.04861111111111107\n",
       " -0.04861111111111108\n",
       "  0.02777777777777777\n",
       "  0.027777777777777762"
      ]
     },
     "metadata": {},
     "output_type": "display_data"
    }
   ],
   "source": [
    "nulla(g,56,3)"
   ]
  }
 ],
 "metadata": {
  "kernelspec": {
   "display_name": "Julia 1.8.5",
   "language": "julia",
   "name": "julia-1.8"
  },
  "language_info": {
   "file_extension": ".jl",
   "mimetype": "application/julia",
   "name": "julia",
   "version": "1.8.5"
  },
  "orig_nbformat": 4
 },
 "nbformat": 4,
 "nbformat_minor": 2
}
