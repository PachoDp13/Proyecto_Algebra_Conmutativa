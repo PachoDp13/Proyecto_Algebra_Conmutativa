{
 "cells": [
  {
   "cell_type": "code",
   "execution_count": 1,
   "metadata": {},
   "outputs": [],
   "source": [
    "using Oscar"
   ]
  },
  {
   "cell_type": "code",
   "execution_count": 2,
   "metadata": {},
   "outputs": [
    {
     "data": {
      "text/plain": [
       "(Multivariate Polynomial Ring in z1, z2, z3 over Multivariate Polynomial Ring in 6 variables y1, y2, y3, y4, ..., y6 over Rational Field, AbstractAlgebra.Generic.MPoly{fmpq_mpoly}[z1, z2, z3])"
      ]
     },
     "metadata": {},
     "output_type": "display_data"
    }
   ],
   "source": [
    "T, y =  PolynomialRing(QQ,[\"y$i\" for i in 1:6])\n",
    "R2, z = PolynomialRing(T,[\"z$i\" for i in 1:3])"
   ]
  },
  {
   "cell_type": "code",
   "execution_count": 12,
   "metadata": {},
   "outputs": [
    {
     "data": {
      "text/plain": [
       "6-element Vector{AbstractAlgebra.Generic.MPoly{fmpq_mpoly}}:\n",
       " y1*z1^3 - y1\n",
       " y2*z2^3 - y2\n",
       " y3*z3^3 - y3\n",
       " y4*z1^3 + y4*z1^2*z2 + y4*z1*z2^2\n",
       " y5*z1^2*z2 + y5*z1*z2^2 + y5*z2^3\n",
       " y6*z1^2*z3 + y6*z1*z2*z3 + y6*z2^2*z3"
      ]
     },
     "metadata": {},
     "output_type": "display_data"
    }
   ],
   "source": [
    "v = [y[1]* (z[1]^3-1);\n",
    "    y[2]* (z[2]^3-1);\n",
    "    y[3]* (z[3]^3-1);\n",
    "    y[4]* (z[1]^3+z[1]^2 * z[2]+ z[1] * z[2]^2 );\n",
    "    y[5]* (z[1]^2*z[2]+z[1] * z[2]^2+   z[2]^3);\n",
    "    y[6]* (z[1]^2*z[3]+z[1] * z[2] * z[3] +   z[2]^2 * z[3]);\n",
    "    ]"
   ]
  },
  {
   "cell_type": "code",
   "execution_count": 17,
   "metadata": {},
   "outputs": [
    {
     "data": {
      "text/plain": [
       "15-element Vector{AbstractAlgebra.Generic.MPoly{fmpq_mpoly}}:\n",
       " y1*z1^3\n",
       " -y1\n",
       " y2*z2^3\n",
       " -y2\n",
       " y3*z3^3\n",
       " -y3\n",
       " y4*z1^3\n",
       " y4*z1^2*z2\n",
       " y4*z1*z2^2\n",
       " y5*z1^2*z2\n",
       " y5*z1*z2^2\n",
       " y5*z2^3\n",
       " y6*z1^2*z3\n",
       " y6*z1*z2*z3\n",
       " y6*z2^2*z3"
      ]
     },
     "metadata": {},
     "output_type": "display_data"
    }
   ],
   "source": [
    "re = reduce(vcat,[collect(terms(f)) for f in v])"
   ]
  },
  {
   "cell_type": "code",
   "execution_count": 28,
   "metadata": {},
   "outputs": [
    {
     "data": {
      "text/html": [
       "z1^3"
      ],
      "text/latex": [
       "\\mathop{\\mathrm{z1}}^{3}"
      ],
      "text/plain": [
       "z1^3"
      ]
     },
     "metadata": {},
     "output_type": "display_data"
    }
   ],
   "source": [
    "collect(monomials(re[1]))[1]"
   ]
  },
  {
   "cell_type": "code",
   "execution_count": 27,
   "metadata": {},
   "outputs": [],
   "source": [
    "diccionario = Dict()\n",
    "for p in re\n",
    "    if haskey(diccionario, collect(monomials(p))[1])\n",
    "        diccionario[collect(monomials(p))[1]] += p\n",
    "    else\n",
    "        diccionario[collect(monomials(p))[1]] = p\n",
    "    end\n",
    "end"
   ]
  },
  {
   "cell_type": "code",
   "execution_count": 26,
   "metadata": {},
   "outputs": [
    {
     "data": {
      "text/plain": [
       "9-element Vector{Any}:\n",
       " (y2 + y5)*z2^3\n",
       " y6*z1^2*z3\n",
       " y6*z1*z2*z3\n",
       " -y1 - y2 - y3\n",
       " y6*z2^2*z3\n",
       " (y1 + y4)*z1^3\n",
       " y3*z3^3\n",
       " (y4 + y5)*z1^2*z2\n",
       " (y4 + y5)*z1*z2^2"
      ]
     },
     "metadata": {},
     "output_type": "display_data"
    }
   ],
   "source": [
    "collect(values(diccionario))"
   ]
  }
 ],
 "metadata": {
  "kernelspec": {
   "display_name": "Julia 1.8.5",
   "language": "julia",
   "name": "julia-1.8"
  },
  "language_info": {
   "file_extension": ".jl",
   "mimetype": "application/julia",
   "name": "julia",
   "version": "1.8.5"
  },
  "orig_nbformat": 4
 },
 "nbformat": 4,
 "nbformat_minor": 2
}
