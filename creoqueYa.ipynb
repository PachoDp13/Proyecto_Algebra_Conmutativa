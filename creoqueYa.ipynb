{
 "cells": [
  {
   "cell_type": "code",
   "execution_count": 76,
   "metadata": {},
   "outputs": [],
   "source": [
    "using Oscar"
   ]
  },
  {
   "cell_type": "code",
   "execution_count": 77,
   "metadata": {},
   "outputs": [
    {
     "data": {
      "text/plain": [
       "(Multivariate Polynomial Ring in x1, x2, x3, x4, x5 over Rational Field, fmpq_mpoly[x1, x2, x3, x4, x5])"
      ]
     },
     "metadata": {},
     "output_type": "display_data"
    }
   ],
   "source": [
    "# Creamos en anillo de polinomios\n",
    "R, x = PolynomialRing(QQ, [\"x$i\" for i in 1:5])"
   ]
  },
  {
   "cell_type": "code",
   "execution_count": 78,
   "metadata": {},
   "outputs": [
    {
     "data": {
      "text/plain": [
       "4-element Vector{fmpq_mpoly}:\n",
       " x1^2 - 1\n",
       " x1 + x2\n",
       " x1 + x3\n",
       " x2 + x3"
      ]
     },
     "metadata": {},
     "output_type": "display_data"
    }
   ],
   "source": [
    "# Los polinomios a verificar\n",
    "f1 = x[1]^2 - 1\n",
    "f2 = x[1] + x[2]\n",
    "f3 = x[1] + x[3]\n",
    "f4 = x[2] + x[3]\n",
    "listap = [f1,f2,f3,f4]"
   ]
  },
  {
   "cell_type": "code",
   "execution_count": null,
   "metadata": {},
   "outputs": [],
   "source": []
  },
  {
   "cell_type": "code",
   "execution_count": 79,
   "metadata": {},
   "outputs": [
    {
     "data": {
      "text/plain": [
       "9-element Vector{fmpq_mpoly}:\n",
       " x1^3 - 1\n",
       " x2^3 - 1\n",
       " x3^3 - 1\n",
       " x4^3 - 1\n",
       " x5^3 - 1\n",
       " x1^2 + x1*x2 + x2^2\n",
       " x1^2 + x1*x3 + x3^2\n",
       " x2^2 + x2*x4 + x4^2\n",
       " x2^2 + x2*x5 + x5^2"
      ]
     },
     "metadata": {},
     "output_type": "display_data"
    }
   ],
   "source": [
    "listap =[x[1]^3 - 1\n",
    ",x[2]^3 - 1\n",
    ",x[3]^3 - 1\n",
    ",x[1]^2 + x[1]*x[2] + x[2]^2\n",
    ",x[1]^2 + x[1]*x[3] + x[3]^2]"
   ]
  },
  {
   "cell_type": "code",
   "execution_count": 80,
   "metadata": {},
   "outputs": [
    {
     "data": {
      "text/plain": [
       "partition (generic function with 1 method)"
      ]
     },
     "metadata": {},
     "output_type": "display_data"
    }
   ],
   "source": [
    "#  Calcula las particiones de d en sumas de n numeros, pueden ser 0\n",
    "function partition(n::Int, d::Int)\n",
    "    if n == 1\n",
    "        return [[d]]\n",
    "    end\n",
    "    partitions = []\n",
    "    for i in 0:d\n",
    "        for p in partition(n-1, d-i)\n",
    "            push!(partitions, [i; p])\n",
    "        end\n",
    "    end\n",
    "    return partitions\n",
    "end"
   ]
  },
  {
   "cell_type": "code",
   "execution_count": 81,
   "metadata": {},
   "outputs": [
    {
     "data": {
      "text/plain": [
       "10-element Vector{Any}:\n",
       " [0, 0, 3]\n",
       " [0, 1, 2]\n",
       " [0, 2, 1]\n",
       " [0, 3, 0]\n",
       " [1, 0, 2]\n",
       " [1, 1, 1]\n",
       " [1, 2, 0]\n",
       " [2, 0, 1]\n",
       " [2, 1, 0]\n",
       " [3, 0, 0]"
      ]
     },
     "metadata": {},
     "output_type": "display_data"
    }
   ],
   "source": [
    "partition(3,3)"
   ]
  },
  {
   "cell_type": "code",
   "execution_count": 82,
   "metadata": {},
   "outputs": [
    {
     "data": {
      "text/plain": [
       "polysBi (generic function with 1 method)"
      ]
     },
     "metadata": {},
     "output_type": "display_data"
    }
   ],
   "source": [
    "# Calcula los polinomios beta_i sin coeficientes\n",
    "function polysBi(n::Int, d::Int)\n",
    "    v = []\n",
    "    for j in 0:d\n",
    "        v = vcat(v, [reduce(*,[x[i]^par[i] for i in 1:length(par)]) for par in partition(n,j)])\n",
    "    end\n",
    "    return v\n",
    "end"
   ]
  },
  {
   "cell_type": "code",
   "execution_count": 83,
   "metadata": {},
   "outputs": [
    {
     "data": {
      "text/plain": [
       "20-element Vector{Any}:\n",
       " 1\n",
       " x3\n",
       " x2\n",
       " x1\n",
       " x3^2\n",
       " x2*x3\n",
       " x2^2\n",
       " x1*x3\n",
       " x1*x2\n",
       " x1^2\n",
       " x3^3\n",
       " x2*x3^2\n",
       " x2^2*x3\n",
       " x2^3\n",
       " x1*x3^2\n",
       " x1*x2*x3\n",
       " x1*x2^2\n",
       " x1^2*x3\n",
       " x1^2*x2\n",
       " x1^3"
      ]
     },
     "metadata": {},
     "output_type": "display_data"
    }
   ],
   "source": [
    "polysBi(3,3)"
   ]
  },
  {
   "cell_type": "code",
   "execution_count": 84,
   "metadata": {},
   "outputs": [
    {
     "data": {
      "text/plain": [
       "creaCertv (generic function with 1 method)"
      ]
     },
     "metadata": {},
     "output_type": "display_data"
    }
   ],
   "source": [
    "# Retorna los polinomios beta_i * f_i sin loscoeficientes\n",
    "function creaCertv(d,listap)\n",
    "    v=[]\n",
    "    n=length(gens(parent(listap[1])))\n",
    "    for f in listap\n",
    "        dd = total_degree(f)\n",
    "        v = vcat(v,[ f * bi for bi in polysBi(n, d - dd)])\n",
    "    end\n",
    "    return v\n",
    "end"
   ]
  },
  {
   "cell_type": "code",
   "execution_count": 85,
   "metadata": {},
   "outputs": [
    {
     "data": {
      "text/plain": [
       "29-element Vector{Any}:\n",
       " x1^3 - 1\n",
       " x2^3 - 1\n",
       " x3^3 - 1\n",
       " x4^3 - 1\n",
       " x5^3 - 1\n",
       " x1^2 + x1*x2 + x2^2\n",
       " x1^2*x5 + x1*x2*x5 + x2^2*x5\n",
       " x1^2*x4 + x1*x2*x4 + x2^2*x4\n",
       " x1^2*x3 + x1*x2*x3 + x2^2*x3\n",
       " x1^2*x2 + x1*x2^2 + x2^3\n",
       " ⋮\n",
       " x2^2*x3 + x2*x3*x4 + x3*x4^2\n",
       " x2^3 + x2^2*x4 + x2*x4^2\n",
       " x1*x2^2 + x1*x2*x4 + x1*x4^2\n",
       " x2^2 + x2*x5 + x5^2\n",
       " x2^2*x5 + x2*x5^2 + x5^3\n",
       " x2^2*x4 + x2*x4*x5 + x4*x5^2\n",
       " x2^2*x3 + x2*x3*x5 + x3*x5^2\n",
       " x2^3 + x2^2*x5 + x2*x5^2\n",
       " x1*x2^2 + x1*x2*x5 + x1*x5^2"
      ]
     },
     "metadata": {},
     "output_type": "display_data"
    }
   ],
   "source": [
    "d = maximum([total_degree(poly) for poly in listap])\n",
    "bifi = creaCertv(d,listap)"
   ]
  },
  {
   "cell_type": "code",
   "execution_count": 86,
   "metadata": {},
   "outputs": [],
   "source": []
  },
  {
   "cell_type": "code",
   "execution_count": 87,
   "metadata": {},
   "outputs": [
    {
     "data": {
      "text/plain": [
       "nulla (generic function with 1 method)"
      ]
     },
     "metadata": {},
     "output_type": "display_data"
    }
   ],
   "source": [
    "function nulla(polys,K)\n",
    "    n = length(gens(parent(polys[1])))\n",
    "    d = maximum([total_degree(poly) for poly in polys])\n",
    "    while d <= K\n",
    "        # Creacion del polinomio de  setificado CERT\n",
    "        CERTsinC = creaCertv(d,polys)\n",
    "        nUnkows = length(CERTsinC)\n",
    "        T, y =  PolynomialRing(R,[\"y$i\" for i in 1:nUnkows])\n",
    "        R2, z = PolynomialRing(T,[\"z$i\" for i in 1:n])\n",
    "        CERTsinC2 = [evaluate(bf,collect(gens(R2))) for bf in CERTsinC]\n",
    "        CERTv = [ y[i]*CERTsinC2[i] for i in  1:length(CERTsinC2)]\n",
    "        CERT = sum(CERTv)\n",
    "        CERTt = collect(terms(CERT))\n",
    "\n",
    "        # Creacion del sistema lineal \n",
    "        A = []\n",
    "        for cee in CERTt\n",
    "            achiquita = vec([Int( numerator(evaluate( coeff(cc, yi),zeros(Int, n)))) for yi in gens(T), cc in collect(coeffs(cee))])\n",
    "            if isempty(A)\n",
    "                A = achiquita\n",
    "            else\n",
    "                A=hcat(A,achiquita)\n",
    "            end\n",
    "        end\n",
    "        A = transpose( A)\n",
    "\n",
    "        b = zeros(Int,length(CERTt))\n",
    "        b[end]+=1\n",
    "        sol = A \\ b\n",
    "        if any(sol .!= 0) # si no es todo 0, el sistema es consistente\n",
    "            println(\"The system of equations F is infeasible\")\n",
    "            return sol\n",
    "        end\n",
    "        println(\"Una iteracion\")\n",
    "        d += 1\n",
    "    end\n",
    "    println(\"The system of equations F is feasible.\")\n",
    "    return true\n",
    "end"
   ]
  },
  {
   "cell_type": "code",
   "execution_count": 88,
   "metadata": {},
   "outputs": [
    {
     "name": "stdout",
     "output_type": "stream",
     "text": [
      "The system of equations F is infeasible\n"
     ]
    },
    {
     "data": {
      "text/plain": [
       "29-element Vector{Float64}:\n",
       " -0.18714643964210395\n",
       " -0.19809754314420824\n",
       " -0.16230087236223273\n",
       " -0.16800129053774024\n",
       " -0.1680012905377404\n",
       " -9.704665347072193e-18\n",
       " -0.015066050438516693\n",
       " -0.015066050438516668\n",
       " -0.017249536009316262\n",
       "  0.038740031057638034\n",
       "  ⋮\n",
       "  0.00431238400232907\n",
       "  0.021452474155297864\n",
       " -0.01834127879471594\n",
       "  9.552386995867697e-18\n",
       "  0.051548726761765924\n",
       " -0.014483787619636783\n",
       "  0.0043123840023290725\n",
       "  0.02145247415529805\n",
       " -0.01834127879471595"
      ]
     },
     "metadata": {},
     "output_type": "display_data"
    }
   ],
   "source": [
    "nulla(listap,10)"
   ]
  }
 ],
 "metadata": {
  "kernelspec": {
   "display_name": "Julia 1.8.5",
   "language": "julia",
   "name": "julia-1.8"
  },
  "language_info": {
   "file_extension": ".jl",
   "mimetype": "application/julia",
   "name": "julia",
   "version": "1.8.5"
  },
  "orig_nbformat": 4
 },
 "nbformat": 4,
 "nbformat_minor": 2
}
