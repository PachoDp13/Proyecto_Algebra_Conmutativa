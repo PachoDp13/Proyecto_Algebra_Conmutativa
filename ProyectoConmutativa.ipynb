{
 "cells": [
  {
   "attachments": {},
   "cell_type": "markdown",
   "metadata": {},
   "source": [
    "# Proyecto Álgebra Conmutativa: Calculando certificados de no viabilidad de problemas combinatorios a través del Nullstellensatz de Hilbert\n",
    "\n",
    "#### Integrantes: Federico Gálvez Zuleta, Francisco Javier Díaz Perdomo  y Juan Camilo González Cabrera"
   ]
  },
  {
   "cell_type": "code",
   "execution_count": 1,
   "metadata": {},
   "outputs": [],
   "source": [
    "using Oscar"
   ]
  },
  {
   "cell_type": "code",
   "execution_count": 5,
   "metadata": {},
   "outputs": [
    {
     "data": {
      "text/plain": [
       "polisGrafo (generic function with 1 method)"
      ]
     },
     "metadata": {},
     "output_type": "display_data"
    }
   ],
   "source": [
    "function text_reader(name)\n",
    "    f = open(name)\n",
    "    lines = readlines(f)\n",
    "    E = []\n",
    "    v= 0\n",
    "    for l in lines\n",
    "        x = l[1]\n",
    "        if x == 'p'\n",
    "            t = split(l)\n",
    "            v = parse(Int64, t[3])\n",
    "        elseif x == 'e'\n",
    "            t = split(l)\n",
    "            push!(E, [parse(Int64,t[2]), parse(Int64,t[3])]) \n",
    "        end\n",
    "    end\n",
    "return v, E\n",
    "end\n",
    "\n",
    "function polisGrafo(g,k,R)\n",
    "    # Devuelve dado un grafo y un entero k, un sistema de polinomios que ayuda a determinar que el grafo es k-colorable Y el anillo de polinomios\n",
    "    ps = [R[j]^k-1 for j in 1:nv] # los polinomios x^k_i- 1 = 0, ∀i ∈ V(g)\n",
    "    ps2 = [R[src(r)]^(k-1-l) * R[dst(r)]^(l) for r in collect(edges(g)), l in 0:k-1] # los polinomios sum_l=0^{k-1} x_i^{k-1-l} x_j^l=0 ∀{i, j} ∈ E(G)\n",
    "    p2 = sum(ps2,dims=2)\n",
    "    polis = vec(vcat(ps,p2)) # crea una lista con los polinomios\n",
    "    return polis # retorna la lista de polinomios \n",
    "end\n",
    "        "
   ]
  },
  {
   "cell_type": "code",
   "execution_count": 10,
   "metadata": {},
   "outputs": [
    {
     "data": {
      "text/plain": [
       "(Multivariate Polynomial Ring in 28 variables x1, x2, x3, x4, ..., x28 over Rational Field, fmpq_mpoly[x1, x2, x3, x4, x5, x6, x7, x8, x9, x10  …  x19, x20, x21, x22, x23, x24, x25, x26, x27, x28])"
      ]
     },
     "metadata": {},
     "output_type": "display_data"
    }
   ],
   "source": [
    "nv, E = text_reader(\"Grafos/johnson8-2-4.clq.txt\")\n",
    "g = Graph{Undirected}(nv)\n",
    "for v in E\n",
    "    add_edge!(g, v[1], v[2])\n",
    "end\n",
    "\n",
    "R, x = PolynomialRing(QQ, [\"x$i\" for i in 1:nv]) # Definimos el anillo de polinomios con n = #vercies del grafo variables"
   ]
  },
  {
   "cell_type": "code",
   "execution_count": 12,
   "metadata": {},
   "outputs": [
    {
     "name": "stdout",
     "output_type": "stream",
     "text": [
      "238\n"
     ]
    }
   ],
   "source": [
    "G = polisGrafo(g, 3, R)\n",
    "println(length(G))"
   ]
  },
  {
   "cell_type": "code",
   "execution_count": 13,
   "metadata": {},
   "outputs": [
    {
     "data": {
      "text/plain": [
       "creaCertv (generic function with 1 method)"
      ]
     },
     "metadata": {},
     "output_type": "display_data"
    }
   ],
   "source": [
    "#  Calcula las particiones de d en sumas de n numeros, pueden ser 0\n",
    "function partition(n::Int, d::Int)\n",
    "    if n == 1\n",
    "        return [[d]]\n",
    "    end\n",
    "    partitions = []\n",
    "    for i in 0:d\n",
    "        for p in partition(n-1, d-i)\n",
    "            push!(partitions, [i; p])\n",
    "        end\n",
    "    end\n",
    "    return partitions\n",
    "end\n",
    "# Calcula los polinomios beta_i sin coeficientes\n",
    "function polysBi(n::Int, d::Int)\n",
    "    v = []\n",
    "    for j in 0:d\n",
    "        v = vcat(v, [reduce(*,[x[i]^par[i] for i in 1:length(par)]) for par in partition(n,j)])\n",
    "    end\n",
    "    return v\n",
    "end\n",
    "# Retorna los polinomios beta_i * f_i sin los coeficientes\n",
    "function creaCertv(d,listap)\n",
    "    v=[]\n",
    "    n=length(gens(parent(listap[1])))\n",
    "    for f in listap\n",
    "        dd = total_degree(f)\n",
    "        v = vcat(v,[ f * bi for bi in polysBi(n, d - dd)])\n",
    "    end\n",
    "    return v\n",
    "end"
   ]
  },
  {
   "cell_type": "code",
   "execution_count": 14,
   "metadata": {},
   "outputs": [
    {
     "data": {
      "text/plain": [
       "6118-element Vector{Any}:\n",
       " x1^3 - 1\n",
       " x2^3 - 1\n",
       " x3^3 - 1\n",
       " x4^3 - 1\n",
       " x5^3 - 1\n",
       " x6^3 - 1\n",
       " x7^3 - 1\n",
       " x8^3 - 1\n",
       " x9^3 - 1\n",
       " x10^3 - 1\n",
       " ⋮\n",
       " x9*x15^2 + x9*x15*x28 + x9*x28^2\n",
       " x8*x15^2 + x8*x15*x28 + x8*x28^2\n",
       " x7*x15^2 + x7*x15*x28 + x7*x28^2\n",
       " x6*x15^2 + x6*x15*x28 + x6*x28^2\n",
       " x5*x15^2 + x5*x15*x28 + x5*x28^2\n",
       " x4*x15^2 + x4*x15*x28 + x4*x28^2\n",
       " x3*x15^2 + x3*x15*x28 + x3*x28^2\n",
       " x2*x15^2 + x2*x15*x28 + x2*x28^2\n",
       " x1*x15^2 + x1*x15*x28 + x1*x28^2"
      ]
     },
     "metadata": {},
     "output_type": "display_data"
    }
   ],
   "source": [
    "d = maximum([total_degree(poly) for poly in G])\n",
    "bifi = creaCertv(d,G)"
   ]
  },
  {
   "cell_type": "code",
   "execution_count": 15,
   "metadata": {},
   "outputs": [
    {
     "data": {
      "text/plain": [
       "nulla (generic function with 1 method)"
      ]
     },
     "metadata": {},
     "output_type": "display_data"
    }
   ],
   "source": [
    "function nulla(polys,K)\n",
    "    n = length(gens(parent(polys[1])))\n",
    "    d = maximum([total_degree(poly) for poly in polys])\n",
    "    while d <= K\n",
    "        # Creacion del polinomio de  setificado CERT\n",
    "        CERTsinC = creaCertv(d,polys)\n",
    "        nUnkows = length(CERTsinC)\n",
    "        T, y =  PolynomialRing(R,[\"y$i\" for i in 1:nUnkows])\n",
    "        R2, z = PolynomialRing(T,[\"z$i\" for i in 1:n])\n",
    "        CERTsinC2 = [evaluate(bf,collect(gens(R2))) for bf in CERTsinC]\n",
    "        CERTv = [ y[i]*CERTsinC2[i] for i in  1:length(CERTsinC2)]\n",
    "        CERT = sum(CERTv)\n",
    "        CERTt = collect(terms(CERT))\n",
    "\n",
    "        # Creacion del sistema lineal \n",
    "        A = []\n",
    "        for cee in CERTt\n",
    "            achiquita = vec([Int( numerator(evaluate( coeff(cc, yi),zeros(Int, n)))) for yi in gens(T), cc in collect(coeffs(cee))])\n",
    "            if isempty(A)\n",
    "                A = achiquita\n",
    "            else\n",
    "                A=hcat(A,achiquita)\n",
    "            end\n",
    "        end\n",
    "        A = transpose( A)\n",
    "\n",
    "        b = zeros(Int,length(CERTt))\n",
    "        b[end]+=1\n",
    "        sol = A \\ b\n",
    "        if any(sol .!= 0) # si no es todo 0, el sistema es consistente\n",
    "            println(\"The system of equations F is infeasible\")\n",
    "            return sol\n",
    "        end\n",
    "        println(\"Una iteracion\")\n",
    "        d += 1\n",
    "    end\n",
    "    println(\"The system of equations F is feasible.\")\n",
    "    return true\n",
    "end"
   ]
  },
  {
   "cell_type": "code",
   "execution_count": 17,
   "metadata": {},
   "outputs": [],
   "source": [
    "nulla(G,56)"
   ]
  }
 ],
 "metadata": {
  "kernelspec": {
   "display_name": "Julia 1.8.5",
   "language": "julia",
   "name": "julia-1.8"
  },
  "language_info": {
   "file_extension": ".jl",
   "mimetype": "application/julia",
   "name": "julia",
   "version": "1.8.5"
  },
  "orig_nbformat": 4
 },
 "nbformat": 4,
 "nbformat_minor": 2
}
