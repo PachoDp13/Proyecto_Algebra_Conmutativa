{
 "cells": [
  {
   "cell_type": "code",
   "execution_count": 270,
   "metadata": {},
   "outputs": [],
   "source": [
    "using Oscar"
   ]
  },
  {
   "cell_type": "code",
   "execution_count": 271,
   "metadata": {},
   "outputs": [
    {
     "data": {
      "text/plain": [
       "nulla (generic function with 1 method)"
      ]
     },
     "metadata": {},
     "output_type": "display_data"
    }
   ],
   "source": [
    "function nulla(polys,K)\n",
    "d = maximum([total_degree(poly) for poly in polys])\n",
    "while d <= K\n",
    "    cert = sum()\n",
    "end\n",
    "end"
   ]
  },
  {
   "cell_type": "code",
   "execution_count": 272,
   "metadata": {},
   "outputs": [
    {
     "data": {
      "text/plain": [
       "(Multivariate Polynomial Ring in x1, x2, x3 over Rational Field, fmpq_mpoly[x1, x2, x3])"
      ]
     },
     "metadata": {},
     "output_type": "display_data"
    }
   ],
   "source": [
    "R, x = PolynomialRing(QQ, [\"x$i\" for i in 1:3])"
   ]
  },
  {
   "cell_type": "code",
   "execution_count": 273,
   "metadata": {},
   "outputs": [
    {
     "data": {
      "text/plain": [
       "4-element Vector{fmpq_mpoly}:\n",
       " x1^2 - 1\n",
       " x1 + x2\n",
       " x1 + x3\n",
       " x2 + x3"
      ]
     },
     "metadata": {},
     "output_type": "display_data"
    }
   ],
   "source": [
    "f1 = x[1]^2 - 1\n",
    "f2 = x[1] + x[2]\n",
    "f3 = x[1] + x[3]\n",
    "f4 = x[2] + x[3]\n",
    "listap = [f1,f2,f3,f4]"
   ]
  },
  {
   "cell_type": "code",
   "execution_count": 274,
   "metadata": {},
   "outputs": [
    {
     "data": {
      "text/plain": [
       "(Multivariate Polynomial Ring in y1, y2, y3, y4 over Multivariate Polynomial Ring in x1, x2, x3 over Rational Field, AbstractAlgebra.Generic.MPoly{fmpq_mpoly}[y1, y2, y3, y4])"
      ]
     },
     "metadata": {},
     "output_type": "display_data"
    }
   ],
   "source": [
    "T, y =  PolynomialRing(R,[\"y$i\" for i in 1:4])"
   ]
  },
  {
   "cell_type": "code",
   "execution_count": 275,
   "metadata": {},
   "outputs": [
    {
     "data": {
      "text/html": [
       "x1*y1"
      ],
      "text/latex": [
       "\\mathop{\\mathrm{x1}} \\mathop{\\mathrm{y1}}"
      ],
      "text/plain": [
       "x1*y1"
      ]
     },
     "metadata": {},
     "output_type": "display_data"
    }
   ],
   "source": [
    "fg=y[1]*x[1]"
   ]
  },
  {
   "cell_type": "code",
   "execution_count": 276,
   "metadata": {},
   "outputs": [
    {
     "ename": "MethodError",
     "evalue": "MethodError: no method matching sum()\nClosest candidates are:\n  sum(!Matched::ChainRulesCore.AbstractZero; dims) at ~/.julia/packages/ChainRulesCore/a4mIA/src/tangent_types/abstract_zero.jl:40\n  sum(!Matched::ChainRulesCore.AbstractThunk; kws...) at ~/.julia/packages/ChainRulesCore/a4mIA/src/tangent_types/thunks.jl:53\n  sum(!Matched::AbstractAlgebra.Generic.Partition) at ~/.julia/packages/AbstractAlgebra/FcxWh/src/generic/YoungTabs.jl:29\n  ...",
     "output_type": "error",
     "traceback": [
      "MethodError: no method matching sum()\n",
      "Closest candidates are:\n",
      "  sum(!Matched::ChainRulesCore.AbstractZero; dims) at ~/.julia/packages/ChainRulesCore/a4mIA/src/tangent_types/abstract_zero.jl:40\n",
      "  sum(!Matched::ChainRulesCore.AbstractThunk; kws...) at ~/.julia/packages/ChainRulesCore/a4mIA/src/tangent_types/thunks.jl:53\n",
      "  sum(!Matched::AbstractAlgebra.Generic.Partition) at ~/.julia/packages/AbstractAlgebra/FcxWh/src/generic/YoungTabs.jl:29\n",
      "  ...\n",
      "\n",
      "Stacktrace:\n",
      " [1] top-level scope\n",
      "   @ ~/Proyecto_Algebra_Conmutativa/Intento1.ipynb:5"
     ]
    }
   ],
   "source": [
    "d = maximum([total_degree(poly) for poly in listap])\n",
    "for f in listap\n",
    "    deg = d - total_degree(f)\n",
    "    \n",
    "    for \n",
    "        b = sum()\n",
    "    end\n",
    "end"
   ]
  },
  {
   "cell_type": "code",
   "execution_count": 277,
   "metadata": {},
   "outputs": [
    {
     "data": {
      "text/plain": [
       "partition (generic function with 1 method)"
      ]
     },
     "metadata": {},
     "output_type": "display_data"
    }
   ],
   "source": [
    "function partition(n::Int, d::Int)\n",
    "    if n == 1\n",
    "        return [[d]]\n",
    "    end\n",
    "    partitions = []\n",
    "    for i in 0:d\n",
    "        for p in partition(n-1, d-i)\n",
    "            push!(partitions, [i; p])\n",
    "        end\n",
    "    end\n",
    "    return partitions\n",
    "end\n"
   ]
  },
  {
   "cell_type": "code",
   "execution_count": 278,
   "metadata": {},
   "outputs": [],
   "source": []
  },
  {
   "cell_type": "code",
   "execution_count": 279,
   "metadata": {},
   "outputs": [
    {
     "data": {
      "text/plain": [
       "4-element Vector{Any}:\n",
       " [0, 3]\n",
       " [1, 2]\n",
       " [2, 1]\n",
       " [3, 0]"
      ]
     },
     "metadata": {},
     "output_type": "display_data"
    }
   ],
   "source": [
    "partition(2,3)"
   ]
  },
  {
   "cell_type": "code",
   "execution_count": 280,
   "metadata": {},
   "outputs": [
    {
     "data": {
      "text/plain": [
       "3-element Vector{Any}:\n",
       " [0, 2]\n",
       " [1, 1]\n",
       " [2, 0]"
      ]
     },
     "metadata": {},
     "output_type": "display_data"
    }
   ],
   "source": [
    "partition(2,2)"
   ]
  },
  {
   "cell_type": "code",
   "execution_count": 281,
   "metadata": {},
   "outputs": [
    {
     "data": {
      "text/plain": [
       "2-element Vector{Any}:\n",
       " [0, 1]\n",
       " [1, 0]"
      ]
     },
     "metadata": {},
     "output_type": "display_data"
    }
   ],
   "source": [
    "partition(2,1)"
   ]
  },
  {
   "cell_type": "code",
   "execution_count": 282,
   "metadata": {},
   "outputs": [
    {
     "data": {
      "text/plain": [
       "1-element Vector{Any}:\n",
       " [0, 0]"
      ]
     },
     "metadata": {},
     "output_type": "display_data"
    }
   ],
   "source": [
    "partition(2,0)"
   ]
  },
  {
   "cell_type": "code",
   "execution_count": 283,
   "metadata": {},
   "outputs": [
    {
     "data": {
      "text/plain": [
       "10-element Vector{fmpq_mpoly}:\n",
       " x3^3\n",
       " x2*x3^2\n",
       " x2^2*x3\n",
       " x2^3\n",
       " x1*x3^2\n",
       " x1*x2*x3\n",
       " x1*x2^2\n",
       " x1^2*x3\n",
       " x1^2*x2\n",
       " x1^3"
      ]
     },
     "metadata": {},
     "output_type": "display_data"
    }
   ],
   "source": [
    "[reduce(*,[x[i]^par[i] for i in 1:length(par)]) for par in partition(3,3)]"
   ]
  },
  {
   "cell_type": "code",
   "execution_count": 284,
   "metadata": {},
   "outputs": [
    {
     "data": {
      "text/plain": [
       "80"
      ]
     },
     "metadata": {},
     "output_type": "display_data"
    }
   ],
   "source": [
    "nn = sum([length(partition(3,i)) for i in 0:3]) * length(listap)"
   ]
  },
  {
   "cell_type": "code",
   "execution_count": 285,
   "metadata": {},
   "outputs": [
    {
     "data": {
      "text/plain": [
       "(Multivariate Polynomial Ring in 80 variables y1, y2, y3, y4, ..., y80 over Multivariate Polynomial Ring in x1, x2, x3 over Rational Field, AbstractAlgebra.Generic.MPoly{fmpq_mpoly}[y1, y2, y3, y4, y5, y6, y7, y8, y9, y10  …  y71, y72, y73, y74, y75, y76, y77, y78, y79, y80])"
      ]
     },
     "metadata": {},
     "output_type": "display_data"
    }
   ],
   "source": [
    "T, y =  PolynomialRing(R,[\"y$i\" for i in 1:nn])"
   ]
  },
  {
   "cell_type": "code",
   "execution_count": 286,
   "metadata": {},
   "outputs": [
    {
     "data": {
      "text/plain": [
       "6-element Vector{fmpq_mpoly}:\n",
       " x3^2\n",
       " x2*x3\n",
       " x2^2\n",
       " x1*x3\n",
       " x1*x2\n",
       " x1^2"
      ]
     },
     "metadata": {},
     "output_type": "display_data"
    }
   ],
   "source": [
    "[reduce(*,[x[i]^par[i] for i in 1:length(par)]) for par in partition(3,2)]"
   ]
  },
  {
   "cell_type": "code",
   "execution_count": 287,
   "metadata": {},
   "outputs": [
    {
     "data": {
      "text/plain": [
       "3-element Vector{fmpq_mpoly}:\n",
       " x3\n",
       " x2\n",
       " x1"
      ]
     },
     "metadata": {},
     "output_type": "display_data"
    }
   ],
   "source": [
    "[reduce(*,[x[i]^par[i] for i in 1:length(par)]) for par in partition(3,1)]"
   ]
  },
  {
   "cell_type": "code",
   "execution_count": 288,
   "metadata": {},
   "outputs": [
    {
     "data": {
      "text/plain": [
       "polysFi (generic function with 1 method)"
      ]
     },
     "metadata": {},
     "output_type": "display_data"
    }
   ],
   "source": [
    "function polysFi(n::Int, d::Int)\n",
    "    v = []\n",
    "    for j in 0:d\n",
    "        v = vcat(v, [reduce(*,[x[i]^par[i] for i in 1:length(par)]) for par in partition(n,j)])\n",
    "    end\n",
    "    return v\n",
    "end"
   ]
  },
  {
   "cell_type": "code",
   "execution_count": 289,
   "metadata": {},
   "outputs": [
    {
     "data": {
      "text/plain": [
       "56-element Vector{Any}:\n",
       " 1\n",
       " x3\n",
       " x2\n",
       " x1\n",
       " x3^2\n",
       " x2*x3\n",
       " x2^2\n",
       " x1*x3\n",
       " x1*x2\n",
       " x1^2\n",
       " ⋮\n",
       " x1^2*x2*x3^2\n",
       " x1^2*x2^2*x3\n",
       " x1^2*x2^3\n",
       " x1^3*x3^2\n",
       " x1^3*x2*x3\n",
       " x1^3*x2^2\n",
       " x1^4*x3\n",
       " x1^4*x2\n",
       " x1^5"
      ]
     },
     "metadata": {},
     "output_type": "display_data"
    }
   ],
   "source": [
    "polysFi(3,5)"
   ]
  },
  {
   "cell_type": "code",
   "execution_count": 290,
   "metadata": {},
   "outputs": [
    {
     "data": {
      "text/plain": [
       "Multivariate Polynomial Ring in x1, x2, x3 over Rational Field"
      ]
     },
     "metadata": {},
     "output_type": "display_data"
    }
   ],
   "source": [
    "f= x[1]\n",
    "parent(f)"
   ]
  },
  {
   "cell_type": "code",
   "execution_count": 291,
   "metadata": {},
   "outputs": [
    {
     "data": {
      "text/plain": [
       "creaCertv (generic function with 1 method)"
      ]
     },
     "metadata": {},
     "output_type": "display_data"
    }
   ],
   "source": [
    "function creaCertv(d,listap)\n",
    "    v=[]\n",
    "    n=length(gens(parent(listap[1])))\n",
    "    for f in listap\n",
    "        dd = total_degree(f)\n",
    "        v = vcat(v,[ f * bi for bi in polysFi(n, d - dd)])\n",
    "    end\n",
    "    return v\n",
    "end"
   ]
  },
  {
   "cell_type": "code",
   "execution_count": 292,
   "metadata": {},
   "outputs": [
    {
     "data": {
      "text/plain": [
       "13-element Vector{Any}:\n",
       " x1^2 - 1\n",
       " x1 + x2\n",
       " x1*x3 + x2*x3\n",
       " x1*x2 + x2^2\n",
       " x1^2 + x1*x2\n",
       " x1 + x3\n",
       " x1*x3 + x3^2\n",
       " x1*x2 + x2*x3\n",
       " x1^2 + x1*x3\n",
       " x2 + x3\n",
       " x2*x3 + x3^2\n",
       " x2^2 + x2*x3\n",
       " x1*x2 + x1*x3"
      ]
     },
     "metadata": {},
     "output_type": "display_data"
    }
   ],
   "source": [
    "d = maximum([total_degree(poly) for poly in listap])\n",
    "bifi = creaCertv(d,listap)"
   ]
  },
  {
   "cell_type": "code",
   "execution_count": 293,
   "metadata": {},
   "outputs": [
    {
     "data": {
      "text/plain": [
       "(Multivariate Polynomial Ring in z1, z2, z3 over Multivariate Polynomial Ring in 13 variables y1, y2, y3, y4, ..., y13 over Multivariate Polynomial Ring in x1, x2, x3 over Rational Field, AbstractAlgebra.Generic.MPoly{AbstractAlgebra.Generic.MPoly{fmpq_mpoly}}[z1, z2, z3])"
      ]
     },
     "metadata": {},
     "output_type": "display_data"
    }
   ],
   "source": [
    "nUnkows = length(bifi)\n",
    "T, y =  PolynomialRing(R,[\"y$i\" for i in 1:nUnkows])\n",
    "R2, z = PolynomialRing(T,[\"z$i\" for i in 1:3])"
   ]
  },
  {
   "cell_type": "code",
   "execution_count": 294,
   "metadata": {},
   "outputs": [
    {
     "data": {
      "text/html": [
       "z1^2 - 1"
      ],
      "text/latex": [
       "\\mathop{\\mathrm{z1}}^{2} - 1"
      ],
      "text/plain": [
       "z1^2 - 1"
      ]
     },
     "metadata": {},
     "output_type": "display_data"
    }
   ],
   "source": [
    "evaluate(bifi[1],collect(gens(R2)))"
   ]
  },
  {
   "cell_type": "code",
   "execution_count": 295,
   "metadata": {},
   "outputs": [
    {
     "data": {
      "text/plain": [
       "13-element Vector{AbstractAlgebra.Generic.MPoly{AbstractAlgebra.Generic.MPoly{fmpq_mpoly}}}:\n",
       " z1^2 - 1\n",
       " z1 + z2\n",
       " z1*z3 + z2*z3\n",
       " z1*z2 + z2^2\n",
       " z1^2 + z1*z2\n",
       " z1 + z3\n",
       " z1*z3 + z3^2\n",
       " z1*z2 + z2*z3\n",
       " z1^2 + z1*z3\n",
       " z2 + z3\n",
       " z2*z3 + z3^2\n",
       " z2^2 + z2*z3\n",
       " z1*z2 + z1*z3"
      ]
     },
     "metadata": {},
     "output_type": "display_data"
    }
   ],
   "source": [
    "bifi2 = [evaluate(bf,collect(gens(R2))) for bf in bifi]"
   ]
  },
  {
   "cell_type": "code",
   "execution_count": 296,
   "metadata": {},
   "outputs": [],
   "source": []
  },
  {
   "cell_type": "code",
   "execution_count": 297,
   "metadata": {},
   "outputs": [
    {
     "data": {
      "text/plain": [
       "13-element Vector{AbstractAlgebra.Generic.MPoly{AbstractAlgebra.Generic.MPoly{fmpq_mpoly}}}:\n",
       " y1*z1^2 - y1\n",
       " y2*z1 + y2*z2\n",
       " y3*z1*z3 + y3*z2*z3\n",
       " y4*z1*z2 + y4*z2^2\n",
       " y5*z1^2 + y5*z1*z2\n",
       " y6*z1 + y6*z3\n",
       " y7*z1*z3 + y7*z3^2\n",
       " y8*z1*z2 + y8*z2*z3\n",
       " y9*z1^2 + y9*z1*z3\n",
       " y10*z2 + y10*z3\n",
       " y11*z2*z3 + y11*z3^2\n",
       " y12*z2^2 + y12*z2*z3\n",
       " y13*z1*z2 + y13*z1*z3"
      ]
     },
     "metadata": {},
     "output_type": "display_data"
    }
   ],
   "source": [
    "certv = [ y[i]*bifi2[i] for i in  1:length(bifi2)]"
   ]
  },
  {
   "cell_type": "code",
   "execution_count": 298,
   "metadata": {},
   "outputs": [
    {
     "data": {
      "text/html": [
       "(y1 + y5 + y9)*z1^2 + (y4 + y5 + y8 + y13)*z1*z2 + (y3 + y7 + y9 + y13)*z1*z3 + (y2 + y6)*z1 + (y4 + y12)*z2^2 + (y3 + y8 + y11 + y12)*z2*z3 + (y2 + y10)*z2 + (y7 + y11)*z3^2 + (y6 + y10)*z3 - y1"
      ],
      "text/latex": [
       "\\left(\\mathop{\\mathrm{y1}} + \\mathop{\\mathrm{y5}} + \\mathop{\\mathrm{y9}}\\right) \\mathop{\\mathrm{z1}}^{2} + \\left(\\mathop{\\mathrm{y4}} + \\mathop{\\mathrm{y5}} + \\mathop{\\mathrm{y8}} + \\mathop{\\mathrm{y13}}\\right) \\mathop{\\mathrm{z1}} \\mathop{\\mathrm{z2}} + \\left(\\mathop{\\mathrm{y3}} + \\mathop{\\mathrm{y7}} + \\mathop{\\mathrm{y9}} + \\mathop{\\mathrm{y13}}\\right) \\mathop{\\mathrm{z1}} \\mathop{\\mathrm{z3}} + \\left(\\mathop{\\mathrm{y2}} + \\mathop{\\mathrm{y6}}\\right) \\mathop{\\mathrm{z1}} + \\left(\\mathop{\\mathrm{y4}} + \\mathop{\\mathrm{y12}}\\right) \\mathop{\\mathrm{z2}}^{2} + \\left(\\mathop{\\mathrm{y3}} + \\mathop{\\mathrm{y8}} + \\mathop{\\mathrm{y11}} + \\mathop{\\mathrm{y12}}\\right) \\mathop{\\mathrm{z2}} \\mathop{\\mathrm{z3}} + \\left(\\mathop{\\mathrm{y2}} + \\mathop{\\mathrm{y10}}\\right) \\mathop{\\mathrm{z2}} + \\left(\\mathop{\\mathrm{y7}} + \\mathop{\\mathrm{y11}}\\right) \\mathop{\\mathrm{z3}}^{2} + \\left(\\mathop{\\mathrm{y6}} + \\mathop{\\mathrm{y10}}\\right) \\mathop{\\mathrm{z3}} - \\mathop{\\mathrm{y1}}"
      ],
      "text/plain": [
       "(y1 + y5 + y9)*z1^2 + (y4 + y5 + y8 + y13)*z1*z2 + (y3 + y7 + y9 + y13)*z1*z3 + (y2 + y6)*z1 + (y4 + y12)*z2^2 + (y3 + y8 + y11 + y12)*z2*z3 + (y2 + y10)*z2 + (y7 + y11)*z3^2 + (y6 + y10)*z3 - y1"
      ]
     },
     "metadata": {},
     "output_type": "display_data"
    }
   ],
   "source": [
    "sumaa=sum(certv)"
   ]
  },
  {
   "cell_type": "code",
   "execution_count": 299,
   "metadata": {},
   "outputs": [
    {
     "data": {
      "text/plain": [
       "10-element Vector{AbstractAlgebra.Generic.MPoly{AbstractAlgebra.Generic.MPoly{fmpq_mpoly}}}:\n",
       " (y1 + y5 + y9)*z1^2\n",
       " (y4 + y5 + y8 + y13)*z1*z2\n",
       " (y4 + y12)*z2^2\n",
       " (y3 + y7 + y9 + y13)*z1*z3\n",
       " (y3 + y8 + y11 + y12)*z2*z3\n",
       " (y7 + y11)*z3^2\n",
       " (y2 + y6)*z1\n",
       " (y2 + y10)*z2\n",
       " (y6 + y10)*z3\n",
       " -y1"
      ]
     },
     "metadata": {},
     "output_type": "display_data"
    }
   ],
   "source": [
    "certt = collect(terms(sumaa))"
   ]
  },
  {
   "cell_type": "code",
   "execution_count": 300,
   "metadata": {},
   "outputs": [
    {
     "data": {
      "text/plain": [
       "Rational Field"
      ]
     },
     "metadata": {},
     "output_type": "display_data"
    }
   ],
   "source": [
    "ccc=collect(coeffs(certt[3]))\n",
    "lolo = vec([evaluate( coeff(cc, yi),[0,0,0]) for yi in gens(T), cc in ccc])\n",
    "parent(lolo[1])"
   ]
  },
  {
   "cell_type": "code",
   "execution_count": 301,
   "metadata": {},
   "outputs": [
    {
     "data": {
      "text/plain": [
       "false"
      ]
     },
     "metadata": {},
     "output_type": "display_data"
    }
   ],
   "source": [
    "a = [a]\n",
    "isempty(a)"
   ]
  },
  {
   "cell_type": "code",
   "execution_count": 302,
   "metadata": {},
   "outputs": [
    {
     "data": {
      "text/plain": [
       "10×13 transpose(::Matrix{Rational{BigInt}}) with eltype Rational{BigInt}:\n",
       "  1//1  0//1  0//1  0//1  1//1  0//1  …  0//1  1//1  0//1  0//1  0//1  0//1\n",
       "  0//1  0//1  0//1  1//1  1//1  0//1     1//1  0//1  0//1  0//1  0//1  1//1\n",
       "  0//1  0//1  0//1  1//1  0//1  0//1     0//1  0//1  0//1  0//1  1//1  0//1\n",
       "  0//1  0//1  1//1  0//1  0//1  0//1     0//1  1//1  0//1  0//1  0//1  1//1\n",
       "  0//1  0//1  1//1  0//1  0//1  0//1     1//1  0//1  0//1  1//1  1//1  0//1\n",
       "  0//1  0//1  0//1  0//1  0//1  0//1  …  0//1  0//1  0//1  1//1  0//1  0//1\n",
       "  0//1  1//1  0//1  0//1  0//1  1//1     0//1  0//1  0//1  0//1  0//1  0//1\n",
       "  0//1  1//1  0//1  0//1  0//1  0//1     0//1  0//1  1//1  0//1  0//1  0//1\n",
       "  0//1  0//1  0//1  0//1  0//1  1//1     0//1  0//1  1//1  0//1  0//1  0//1\n",
       " -1//1  0//1  0//1  0//1  0//1  0//1     0//1  0//1  0//1  0//1  0//1  0//1"
      ]
     },
     "metadata": {},
     "output_type": "display_data"
    }
   ],
   "source": [
    "A = []\n",
    "for cee in certt\n",
    "    achiquita = vec([convert(Rational{BigInt},(evaluate( coeff(cc, yi),zeros(Int, 3)))) for yi in gens(T), cc in collect(coeffs(cee))])\n",
    "    if isempty(A)\n",
    "        A = achiquita\n",
    "    else\n",
    "        A=hcat(A,achiquita)\n",
    "    end\n",
    "end\n",
    "A = transpose( A)"
   ]
  },
  {
   "cell_type": "code",
   "execution_count": 303,
   "metadata": {},
   "outputs": [
    {
     "data": {
      "text/plain": [
       "3-element Vector{Int64}:\n",
       " 0\n",
       " 0\n",
       " 0"
      ]
     },
     "metadata": {},
     "output_type": "display_data"
    }
   ],
   "source": [
    "zeros(Int, 3)\n"
   ]
  },
  {
   "cell_type": "code",
   "execution_count": 304,
   "metadata": {},
   "outputs": [
    {
     "data": {
      "text/plain": [
       "3-element Vector{Int64}:\n",
       " 0\n",
       " 0\n",
       " 0"
      ]
     },
     "metadata": {},
     "output_type": "display_data"
    }
   ],
   "source": [
    "[0,0,0]"
   ]
  },
  {
   "cell_type": "code",
   "execution_count": 305,
   "metadata": {},
   "outputs": [],
   "source": [
    "\n"
   ]
  },
  {
   "cell_type": "code",
   "execution_count": 306,
   "metadata": {},
   "outputs": [
    {
     "data": {
      "text/plain": [
       "1//1"
      ]
     },
     "metadata": {},
     "output_type": "display_data"
    }
   ],
   "source": [
    "A[1,1]"
   ]
  },
  {
   "cell_type": "code",
   "execution_count": 307,
   "metadata": {},
   "outputs": [
    {
     "data": {
      "text/plain": [
       "10-element Vector{Float64}:\n",
       " 0.0\n",
       " 0.0\n",
       " 0.0\n",
       " 0.0\n",
       " 0.0\n",
       " 0.0\n",
       " 0.0\n",
       " 0.0\n",
       " 0.0\n",
       " 1.0"
      ]
     },
     "metadata": {},
     "output_type": "display_data"
    }
   ],
   "source": [
    "\n",
    "ceroo = zeros(length(certt))\n",
    "ceroo[end]+=1\n",
    "ceroo\n"
   ]
  },
  {
   "cell_type": "code",
   "execution_count": 308,
   "metadata": {},
   "outputs": [
    {
     "ename": "ErrorException",
     "evalue": "syntax: incomplete: premature end of input",
     "output_type": "error",
     "traceback": [
      "syntax: incomplete: premature end of input\n",
      "\n",
      "Stacktrace:\n",
      " [1] top-level scope\n",
      "   @ ~/Proyecto_Algebra_Conmutativa/Intento1.ipynb:1"
     ]
    }
   ],
   "source": [
    "B ="
   ]
  },
  {
   "cell_type": "code",
   "execution_count": 309,
   "metadata": {},
   "outputs": [
    {
     "data": {
      "text/plain": [
       "13-element Vector{BigFloat}:\n",
       " -1.0\n",
       "  5.346740781574805988618151613253297149417830226944220263575462452126653734729368e-81\n",
       " -0.09999999999999999999999999999999999999999999999999999999999999999999999999999482\n",
       " -0.1000000000000000000000000000000000000000000000000000000000000000000000000000013\n",
       "  0.4999999999999999999999999999999999999999999999999999999999999999999999999999914\n",
       "  2.697743194397055811856300959783095251880228615431768369538829726678559206655872e-79\n",
       " -0.1000000000000000000000000000000000000000000000000000000000000000000000000000002\n",
       " -0.1000000000000000000000000000000000000000000000000000000000000000000000000000056\n",
       "  0.5000000000000000000000000000000000000000000000000000000000000000000000000000086\n",
       " -2.804678010028551931628663992048161194868585219970652774810338975721092281350455e-79\n",
       "  0.09999999999999999999999999999999999999999999999999999999999999999999999999999698\n",
       "  0.1000000000000000000000000000000000000000000000000000000000000000000000000000142\n",
       " -0.300000000000000000000000000000000000000000000000000000000000000000000000000019"
      ]
     },
     "metadata": {},
     "output_type": "display_data"
    }
   ],
   "source": [
    "sol = A \\ ceroo"
   ]
  },
  {
   "cell_type": "code",
   "execution_count": 310,
   "metadata": {},
   "outputs": [
    {
     "data": {
      "text/plain": [
       "13-element Vector{AbstractAlgebra.Generic.MPoly{AbstractAlgebra.Generic.MPoly{fmpq_mpoly}}}:\n",
       " z1^2 - 1\n",
       " z1 + z2\n",
       " z1*z3 + z2*z3\n",
       " z1*z2 + z2^2\n",
       " z1^2 + z1*z2\n",
       " z1 + z3\n",
       " z1*z3 + z3^2\n",
       " z1*z2 + z2*z3\n",
       " z1^2 + z1*z3\n",
       " z2 + z3\n",
       " z2*z3 + z3^2\n",
       " z2^2 + z2*z3\n",
       " z1*z2 + z1*z3"
      ]
     },
     "metadata": {},
     "output_type": "display_data"
    }
   ],
   "source": [
    "bifi2"
   ]
  },
  {
   "cell_type": "code",
   "execution_count": 311,
   "metadata": {},
   "outputs": [
    {
     "data": {
      "text/plain": [
       "1//1"
      ]
     },
     "metadata": {},
     "output_type": "display_data"
    }
   ],
   "source": [
    "convert(Rational{BigInt}, fmpq(1))"
   ]
  },
  {
   "cell_type": "code",
   "execution_count": 312,
   "metadata": {},
   "outputs": [
    {
     "ename": "ErrorException",
     "evalue": "syntax: unexpected \"]\"",
     "output_type": "error",
     "traceback": [
      "syntax: unexpected \"]\"\n",
      "\n",
      "Stacktrace:\n",
      " [1] top-level scope\n",
      "   @ ~/Proyecto_Algebra_Conmutativa/Intento1.ipynb:1"
     ]
    }
   ],
   "source": [
    "[bifi2[i] * fmpq(sol[i] for i in 1: length(bifi2)]"
   ]
  },
  {
   "cell_type": "code",
   "execution_count": 313,
   "metadata": {},
   "outputs": [
    {
     "data": {
      "text/plain": [
       "10×13 transpose(::Matrix{Rational{BigInt}}) with eltype Rational{BigInt}:\n",
       "  1//1  0//1  0//1  0//1  1//1  0//1  …  0//1  1//1  0//1  0//1  0//1  0//1\n",
       "  0//1  0//1  0//1  1//1  1//1  0//1     1//1  0//1  0//1  0//1  0//1  1//1\n",
       "  0//1  0//1  0//1  1//1  0//1  0//1     0//1  0//1  0//1  0//1  1//1  0//1\n",
       "  0//1  0//1  1//1  0//1  0//1  0//1     0//1  1//1  0//1  0//1  0//1  1//1\n",
       "  0//1  0//1  1//1  0//1  0//1  0//1     1//1  0//1  0//1  1//1  1//1  0//1\n",
       "  0//1  0//1  0//1  0//1  0//1  0//1  …  0//1  0//1  0//1  1//1  0//1  0//1\n",
       "  0//1  1//1  0//1  0//1  0//1  1//1     0//1  0//1  0//1  0//1  0//1  0//1\n",
       "  0//1  1//1  0//1  0//1  0//1  0//1     0//1  0//1  1//1  0//1  0//1  0//1\n",
       "  0//1  0//1  0//1  0//1  0//1  1//1     0//1  0//1  1//1  0//1  0//1  0//1\n",
       " -1//1  0//1  0//1  0//1  0//1  0//1     0//1  0//1  0//1  0//1  0//1  0//1"
      ]
     },
     "metadata": {},
     "output_type": "display_data"
    }
   ],
   "source": [
    "A"
   ]
  }
 ],
 "metadata": {
  "kernelspec": {
   "display_name": "Julia 1.8.5",
   "language": "julia",
   "name": "julia-1.8"
  },
  "language_info": {
   "file_extension": ".jl",
   "mimetype": "application/julia",
   "name": "julia",
   "version": "1.8.5"
  },
  "orig_nbformat": 4
 },
 "nbformat": 4,
 "nbformat_minor": 2
}
